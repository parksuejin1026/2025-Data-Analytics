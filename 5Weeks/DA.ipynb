{
  "nbformat": 4,
  "nbformat_minor": 0,
  "metadata": {
    "colab": {
      "provenance": [],
      "authorship_tag": "ABX9TyONmKVKBzi9fHxBLLmWcdA1",
      "include_colab_link": true
    },
    "kernelspec": {
      "name": "python3",
      "display_name": "Python 3"
    },
    "language_info": {
      "name": "python"
    }
  },
  "cells": [
    {
      "cell_type": "markdown",
      "metadata": {
        "id": "view-in-github",
        "colab_type": "text"
      },
      "source": [
        "<a href=\"https://colab.research.google.com/github/parksuejin1026/2025-Data-Analytics/blob/main/5Weeks/DA.ipynb\" target=\"_parent\"><img src=\"https://colab.research.google.com/assets/colab-badge.svg\" alt=\"Open In Colab\"/></a>"
      ]
    },
    {
      "cell_type": "markdown",
      "source": [
        "# 데이터분석입문 5주차 수업\n",
        "##멀티 레이아웃\n"
      ],
      "metadata": {
        "id": "GKZs7X5wVuF_"
      }
    },
    {
      "cell_type": "markdown",
      "source": [
        "## 데이터시각화 한글지원과 선명도 설정"
      ],
      "metadata": {
        "id": "MnOC3Gk2VzEG"
      }
    },
    {
      "cell_type": "code",
      "source": [
        "!pip install koreanize-matplotlib\n",
        "import koreanize_matplotlib\n",
        "%config InlineBackend.figure_format = 'retina'"
      ],
      "metadata": {
        "id": "9ti5d2EOVtHt"
      },
      "execution_count": null,
      "outputs": []
    }
  ]
}